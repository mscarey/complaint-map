{
 "cells": [
  {
   "cell_type": "code",
   "execution_count": 1,
   "metadata": {},
   "outputs": [],
   "source": [
    "import spacy\n",
    "import csv\n",
    "from collections import namedtuple\n",
    "from spacy.matcher import PhraseMatcher"
   ]
  },
  {
   "cell_type": "code",
   "execution_count": 2,
   "metadata": {},
   "outputs": [],
   "source": [
    "o = \"\"\n",
    "\n",
    "for page in range(1,60):\n",
    "    with open('edited_from_ocr/Complaint-p{}-normal.txt'.format(str(page)),'r') as output:\n",
    "        o = \"\\n\".join([o, output.read()])"
   ]
  },
  {
   "cell_type": "code",
   "execution_count": 3,
   "metadata": {
    "scrolled": false
   },
   "outputs": [],
   "source": [
    "o = o.replace(\"\\n\", \" \").replace(\"Case 1:18-cv-03501 Document 1 Filed 04/20/18 \", \"\")\\\n",
    "    .replace(\"$$\", \"§§\").replace(\" $ \", \" § \").replace(\".$ \", \". § \").replace(\"С\", \"C\")\\\n",
    "    .replace(\" S \", \" § \").replace(\" SS\", \" §§\").replace(\" 55 \",\" §§ \").replace(\"US.C.\", \"U.S.C.\")\\\n",
    "    .replace(\"U.S.C. 8 \", \"U.S.C. § \").replace(\"&well\",\"and well\").replace(\" & \",\", \")"
   ]
  },
  {
   "cell_type": "code",
   "execution_count": 4,
   "metadata": {},
   "outputs": [],
   "source": [
    "for n in range(66):\n",
    "    o = o.replace(f\"Page {n} of 66\", f'**{n}**')\n",
    "    # o = o.replace(f\"Page {n} of 66\", f'<page number=\"{n}\" />')"
   ]
  },
  {
   "cell_type": "code",
   "execution_count": 5,
   "metadata": {},
   "outputs": [],
   "source": [
    "filename = \"./edited_from_ocr/full_complaint.txt\"\n",
    "\n",
    "with open(filename, 'w') as fout:\n",
    "    fout.write(o)"
   ]
  },
  {
   "cell_type": "code",
   "execution_count": 6,
   "metadata": {},
   "outputs": [],
   "source": [
    "# Spacy parsing probably needs to be done before tags are added.\n",
    "\n",
    "o = \"<complaint>\" + o + \"</complaint>\""
   ]
  },
  {
   "cell_type": "code",
   "execution_count": 7,
   "metadata": {},
   "outputs": [],
   "source": [
    "def tag_allegations(s: str,first: int,last: int):\n",
    "    s = s.replace(f\" {first}. \", f\"\"\"<allegation para=\"{first}\">\"\"\", 1)\n",
    "    for n in range(first+1, last+1):\n",
    "        s = s.replace(f\" {n}. \", f\"\"\"</allegation><allegation para=\"{n}\">\"\"\", 1)\n",
    "    s = s.replace(f\" {last+1}. \", f\"\"\"</allegation> {last+1}. \"\"\", 1) # not good, consumes the next heading.\n",
    "    return s\n",
    "\n",
    "o = tag_allegations(o, 146, 153)"
   ]
  },
  {
   "cell_type": "code",
   "execution_count": 8,
   "metadata": {},
   "outputs": [],
   "source": [
    "# o"
   ]
  },
  {
   "cell_type": "code",
   "execution_count": 9,
   "metadata": {},
   "outputs": [],
   "source": [
    "parties = []\n",
    "\n",
    "with open(\"./data/parties.csv\", newline=\"\") as infile:\n",
    "    reader = csv.reader(infile)\n",
    "    Party = namedtuple(\"Party\", next(reader))  # get names from column headers\n",
    "    for data in map(Party._make, reader):\n",
    "        parties.append(data)\n",
    "    "
   ]
  },
  {
   "cell_type": "code",
   "execution_count": 10,
   "metadata": {},
   "outputs": [
    {
     "data": {
      "text/plain": [
       "[Party(role='Plaintiff', name='Democratic National Committee', short_name='DNC'),\n",
       " Party(role='Defendant', name='Russian Federation', short_name='Russia'),\n",
       " Party(role='Defendant', name='General Staff of the Armed Forces of the Russian Federation', short_name='GRU'),\n",
       " Party(role='Defendant', name='GRU operative using the pseudonym \"Guccifer 2.0\"', short_name='GRU Operative #1'),\n",
       " Party(role='Defendant', name='Aras Iskenerovich Agalarov', short_name='Aras Agalarov'),\n",
       " Party(role='Defendant', name='Emin Araz Agalarov', short_name='Emin Agalarov'),\n",
       " Party(role='Defendant', name='Joseph Mifsud', short_name='Mifsud'),\n",
       " Party(role='Defendant', name='WikiLeaks', short_name='Wiki Leaks'),\n",
       " Party(role='Defendant', name='Julian Assange', short_name='Assange'),\n",
       " Party(role='Defendant', name='Donald J. Trump for President, Inc.', short_name='Trump Campaign'),\n",
       " Party(role='Defendant', name='Donald J. Trump, Jr.', short_name='Trump, Jr.'),\n",
       " Party(role='Defendant', name='Paul J. Manafort, Jr.', short_name='Manafort'),\n",
       " Party(role='Defendant', name='Roger J. Stone, Jr.', short_name='Stone'),\n",
       " Party(role='Defendant', name='Jared C. Kushner', short_name='Kushner'),\n",
       " Party(role='Defendant', name='George Papadopoulos', short_name='Papadopoulos'),\n",
       " Party(role='Defendant', name='Richard W. Gates, III', short_name='Gates'),\n",
       " Party(role='Defendant', name='John Does 1-10', short_name='John Doe')]"
      ]
     },
     "execution_count": 10,
     "metadata": {},
     "output_type": "execute_result"
    }
   ],
   "source": [
    "parties"
   ]
  },
  {
   "cell_type": "code",
   "execution_count": 11,
   "metadata": {},
   "outputs": [],
   "source": [
    "nlp = spacy.load('en_core_web_sm')\n",
    "doc = nlp(o)"
   ]
  },
  {
   "cell_type": "code",
   "execution_count": 12,
   "metadata": {},
   "outputs": [],
   "source": [
    "# This is probably overkill. I should just use string methods to highlight/tag the names.\n",
    "\n",
    "party_matches = []\n",
    "\n",
    "def on_match(matcher, doc, uid, matches):\n",
    "    print(f'{uid} matched!')\n",
    "    # party_matches.append((uid, matches, \"Party\"))\n",
    "\n",
    "matcher = PhraseMatcher(nlp.vocab)\n",
    "for p in parties:\n",
    "    if len(p.name) < 10:\n",
    "        matcher.add(p.short_name, on_match, nlp(p.short_name), nlp(p.name))\n",
    "    else: matcher.add(p.short_name, on_match, nlp(p.short_name))\n",
    "    \n",
    "# matches = matcher(doc)"
   ]
  },
  {
   "cell_type": "code",
   "execution_count": 13,
   "metadata": {},
   "outputs": [],
   "source": [
    "Entity = namedtuple(\"Entity\", \"text start_char end_char label_\")"
   ]
  },
  {
   "cell_type": "code",
   "execution_count": 14,
   "metadata": {},
   "outputs": [],
   "source": [
    "entities = [Entity(e.text, e.start_char, e.end_char, e.label_) for e in doc.ents\n",
    "            if e.label_ not in (\"CARDINAL\", \"ORDINAL\", \"DATE\", \"MONEY\", \"TIME\", \"LAW\", \"FAC\")]"
   ]
  },
  {
   "cell_type": "code",
   "execution_count": 15,
   "metadata": {},
   "outputs": [],
   "source": [
    "# entities"
   ]
  },
  {
   "cell_type": "code",
   "execution_count": 16,
   "metadata": {},
   "outputs": [
    {
     "name": "stdout",
     "output_type": "stream",
     "text": [
      "CrowdStrike performed forensic analysis on the DNC's computer network and servers.\n",
      "CrowdStrike also set up a system for monitoring the ongoing attack on Plaintiffs computer system and to alert the DNC to future attacks.\n",
      "85.\n",
      "As a result of the persistence of the Russian state-sponsored infiltration, in order to remove the unauthorized users from its network, the DNC was required to decommission more than 140 servers, remove and reinstall all software, including the operating systems, for more than 180 computers, and rebuild at least 11 servers.  \n",
      "*\n",
      "*27\n",
      "*\n",
      "* G. Forensic Evidence Confirms Russia's Attack on the DNC's Network 86.\n",
      "Both CrowdStrike's forensic analysis and the U.S. Government concluded that the DNC's computer systems had been hacked by two independent, sophisticated Russian state sponsored adversaries, both with a nexus to Russia's intelligence services.5\n",
      "The forensic analysts tracked the hacking activities of these adversaries by assigning them code names: \"Cozy Bear\" and \"Fancy Bear,\" which correspond to the more widely used names Advanced Persistent Threat 29 (APT 29) and Advanced Persistent Threat 28 (APT 28), respectively.6The IC Report concluded that \"Fancy Bear\" was acting as an agent of the GRU 87.\n"
     ]
    }
   ],
   "source": [
    "for sent in list(doc.sents)[460:470]:\n",
    "    print(sent.text)"
   ]
  },
  {
   "cell_type": "code",
   "execution_count": 17,
   "metadata": {},
   "outputs": [
    {
     "data": {
      "text/plain": [
       "THE UNITED STATES DISTRICT COURT"
      ]
     },
     "execution_count": 17,
     "metadata": {},
     "output_type": "execute_result"
    }
   ],
   "source": [
    "doc.ents[1]"
   ]
  },
  {
   "cell_type": "code",
   "execution_count": 18,
   "metadata": {},
   "outputs": [
    {
     "data": {
      "text/plain": [
       "spacy.tokens.span.Span"
      ]
     },
     "execution_count": 18,
     "metadata": {},
     "output_type": "execute_result"
    }
   ],
   "source": [
    "type(doc.ents[1])"
   ]
  },
  {
   "cell_type": "code",
   "execution_count": 19,
   "metadata": {},
   "outputs": [],
   "source": [
    "import xml.etree.ElementTree as ET\n",
    "root = ET.fromstring(o)"
   ]
  },
  {
   "cell_type": "code",
   "execution_count": 20,
   "metadata": {},
   "outputs": [
    {
     "data": {
      "text/plain": [
       "[<Element 'allegation' at 0x10ae96728>,\n",
       " <Element 'allegation' at 0x10ae96cc8>,\n",
       " <Element 'allegation' at 0x10ae96688>,\n",
       " <Element 'allegation' at 0x10ae967c8>,\n",
       " <Element 'allegation' at 0x10ae96638>,\n",
       " <Element 'allegation' at 0x10ae96278>,\n",
       " <Element 'allegation' at 0x10ae96e58>]"
      ]
     },
     "execution_count": 20,
     "metadata": {},
     "output_type": "execute_result"
    }
   ],
   "source": [
    "root.getchildren()"
   ]
  },
  {
   "cell_type": "code",
   "execution_count": 21,
   "metadata": {},
   "outputs": [
    {
     "name": "stdout",
     "output_type": "stream",
     "text": [
      "Plaintiff realleges and incorporates by reference all prior paragraphs of this Complaint and paragraphs in the counts below as though set forth fully herein.\n",
      "\n",
      "The DNC's computers are involved in interstate and foreign commerce and communication, and are protected computers under 18 U.S.C. 1030(e)(2).\n",
      "\n",
      "On information and belief, Russia, the GRU, and GRU Operative #1 knowingly and intentionally accessed the DNC's computers without authorization or in excess of authorization, and thereby obtained and used valuable information from those computers irn violation of 18 U.S.C. § 1030(a)(2)(C). Such information included, but was not limited to: private, politically sensitive communications between the DNC and Democratic stakeholders and candidates, confidential donor data; confidential campaign strategy plans; opposition and policy research; and documents regarding planned political events, including fundraisers and rallies. The information was used to advance the plan to denigrate the Democratic presidential nominee and the Democratic party (discussed herein) and bolster Trump's candidacy by strategically releasing the confidential, proprietary information publicly online, including on WikiLeaks.\n",
      "\n",
      "Upon information and belief, Russia, the GRU, and GRU Operative #1 knowingly caused the transmission of a program, information, code, or command, and as a result of such conduct, intentionally caused damage without authorization, to a protected computer, in violation 36  **41** of 18 U.S.C. § 1030(a)(5)(A). Such transmission included, but was not limited to, the use of malware on DNC systems.\n",
      "\n",
      "Upon information and belief, Russia, the GRU, and GRU Operative #1 intentionally accessed a protected computer or computers without authorization, and as a result of such conduct, caused damage and loss, in violation of 18 U.S.C. s 1030(a5)XC), or recklessly caused damage, in violation of 18 U.S.C. 1030(a)(5)(B)\n",
      "\n",
      "Upon information and belief, Russia, the GRU, and GRU Operative #1 knowingly and with intent to defraud trafficked passwords and similar information from the DNC systems, and such trafficking affected interstate or foreign commerce in violation of 18 U.S.C. 1030(a)(6XA) 152, Russia, the GRU, and GRU Operative #1 caused loss to one or more persons during a one-year period aggregating well over $5,000 in value, and they also caused damage affecting ten or more protected computers during a one-year period.\n",
      "\n",
      "The DNC suffered damage and loss as a consequence of Russia, the GRU, and GRU Operative #1 's actions, including but not limited to the cost of investigating and responding to the unauthorized access and abuse of their computer networks, conducting damage assessments, restoring and replacing computers and data, programs, systems, or information, the loss of the value of the DNC's trade secrets, and the harm to the DNC's business as described above. The DNC seeks compensatory and other equitable relief under 18 U.S.C. 1030g) 37  **42** COUNT II RICO (18 U.S.C. § 1962(C)) (AGAINST ALL DEFENDANTS)\n",
      "\n"
     ]
    }
   ],
   "source": [
    "for a in root.getchildren():\n",
    "    print(a.text)\n",
    "    print(\"\")"
   ]
  }
 ],
 "metadata": {
  "kernelspec": {
   "display_name": "Python 3",
   "language": "python",
   "name": "python3"
  },
  "language_info": {
   "codemirror_mode": {
    "name": "ipython",
    "version": 3
   },
   "file_extension": ".py",
   "mimetype": "text/x-python",
   "name": "python",
   "nbconvert_exporter": "python",
   "pygments_lexer": "ipython3",
   "version": "3.6.5"
  }
 },
 "nbformat": 4,
 "nbformat_minor": 2
}
