{
 "cells": [
  {
   "cell_type": "code",
   "execution_count": 1,
   "metadata": {},
   "outputs": [],
   "source": [
    "import spacy\n",
    "import csv\n",
    "from collections import namedtuple\n",
    "from spacy.matcher import PhraseMatcher\n",
    "import re"
   ]
  },
  {
   "cell_type": "code",
   "execution_count": 2,
   "metadata": {},
   "outputs": [],
   "source": [
    "o = \"\"\n",
    "\n",
    "for page in range(1,60):\n",
    "    with open('edited_from_ocr/Complaint-p{}-normal.txt'.format(str(page)),'r') as output:\n",
    "        o = \"\\n\".join([o, output.read()])"
   ]
  },
  {
   "cell_type": "code",
   "execution_count": 3,
   "metadata": {
    "scrolled": false
   },
   "outputs": [],
   "source": [
    "o = o.replace(\"\\n\", \" \").replace(\"Case 1:18-cv-03501 Document 1 Filed 04/20/18 \", \"\")\\\n",
    "    .replace(\"$$\", \"§§\").replace(\" $ \", \" § \").replace(\".$ \", \". § \").replace(\"С\", \"C\")\\\n",
    "    .replace(\" S \", \" § \").replace(\" SS\", \" §§\").replace(\" 55 \",\" §§ \").replace(\"US.C.\", \"U.S.C.\")\\\n",
    "    .replace(\"U.S.C. 8 \", \"U.S.C. § \").replace(\"&well\",\"and well\").replace(\" & \",\", \")"
   ]
  },
  {
   "cell_type": "code",
   "execution_count": 4,
   "metadata": {},
   "outputs": [],
   "source": [
    "# Chose this markup rather than XML because Spacy won't detect it as an entity.\n",
    "\n",
    "for n in range(66):\n",
    "    o = o.replace(f\"Page {n} of 66\", f'**{n}**')\n",
    "    # o = o.replace(f\"Page {n} of 66\", f'<page number=\"{n}\" />')"
   ]
  },
  {
   "cell_type": "code",
   "execution_count": 5,
   "metadata": {},
   "outputs": [],
   "source": [
    "filename = \"./edited_from_ocr/full_complaint.txt\"\n",
    "\n",
    "with open(filename, 'w') as fout:\n",
    "    fout.write(o)"
   ]
  },
  {
   "cell_type": "code",
   "execution_count": 6,
   "metadata": {},
   "outputs": [],
   "source": [
    "# Spacy parsing probably needs to be done before tags are added.\n",
    "\n",
    "o = \"<complaint>\" + o + \"</complaint>\""
   ]
  },
  {
   "cell_type": "code",
   "execution_count": 7,
   "metadata": {},
   "outputs": [],
   "source": [
    "coa = re.compile(r\"((COUNT [IVX]+)[^/d]+?\\)[^/d]+?\\))\")"
   ]
  },
  {
   "cell_type": "code",
   "execution_count": 8,
   "metadata": {},
   "outputs": [],
   "source": [
    "complaint = o[:10000] + re.sub(coa, r'</cause_of_action><cause_of_action count=\"\\2\"><heading>\\1</heading>', o[10000:])"
   ]
  },
  {
   "cell_type": "code",
   "execution_count": 9,
   "metadata": {},
   "outputs": [],
   "source": [
    "complaint = complaint.replace(\"</cause_of_action>\", \"\", 1)\\\n",
    "                     .replace(\"PRAYER FOR RELIEF\", \"</cause_of_action>PRAYER FOR RELIEF\")"
   ]
  },
  {
   "cell_type": "code",
   "execution_count": 10,
   "metadata": {},
   "outputs": [],
   "source": [
    "import xml.etree.ElementTree as ET\n",
    "root = ET.fromstring(complaint)"
   ]
  },
  {
   "cell_type": "code",
   "execution_count": 11,
   "metadata": {},
   "outputs": [],
   "source": [
    "def tag_allegations(s: str):\n",
    "    s = re.sub(r\" (\\d\\d\\d)\\. \", r\"\"\"<allegation para=\"\\1\">\"\"\", s, count=1)\n",
    "    s = re.sub(r\" (\\d\\d\\d)\\. \", r\"\"\"</allegation><allegation para=\"\\1\">\"\"\", s)\n",
    "    return s + \"</allegation>\"\n",
    "\n",
    "# o = tag_allegations(o, 146, 153)"
   ]
  },
  {
   "cell_type": "code",
   "execution_count": 12,
   "metadata": {},
   "outputs": [],
   "source": [
    "for child in root.getchildren():\n",
    "    child[0].tail = tag_allegations(child[0].tail)"
   ]
  },
  {
   "cell_type": "code",
   "execution_count": 13,
   "metadata": {},
   "outputs": [],
   "source": [
    "c = ET.tostring(root, encoding=\"unicode\", method=\"html\")"
   ]
  },
  {
   "cell_type": "code",
   "execution_count": 14,
   "metadata": {},
   "outputs": [],
   "source": [
    "complaint = c.replace(\"&lt;\", \"<\").replace(\"&gt;\", \">\")\n"
   ]
  },
  {
   "cell_type": "code",
   "execution_count": 15,
   "metadata": {},
   "outputs": [],
   "source": [
    "for n in range(66):\n",
    "    complaint = complaint.replace(f\"**{n}**\", f'<page num=\"{n}\"/>')\n",
    "    \n",
    "with open(\"./xml/complaint.xml\", 'w') as fout:\n",
    "    fout.write(complaint)"
   ]
  },
  {
   "cell_type": "code",
   "execution_count": 16,
   "metadata": {},
   "outputs": [
    {
     "name": "stdout",
     "output_type": "stream",
     "text": [
      "<Element 'heading' at 0x1126ab228>\n",
      "<Element 'heading' at 0x1126ab2c8>\n",
      "<Element 'heading' at 0x1126ab368>\n",
      "<Element 'heading' at 0x1126ab408>\n",
      "<Element 'heading' at 0x1126ab4a8>\n",
      "<Element 'heading' at 0x1126ab548>\n",
      "<Element 'heading' at 0x1126ab5e8>\n",
      "<Element 'heading' at 0x1126ab688>\n",
      "<Element 'heading' at 0x1126ab728>\n",
      "<Element 'heading' at 0x1126ab7c8>\n",
      "<Element 'heading' at 0x1126ab868>\n",
      "<Element 'heading' at 0x1126ab908>\n"
     ]
    }
   ],
   "source": [
    "for a in root.getchildren():\n",
    "    for b in a.getchildren():\n",
    "        print(b)"
   ]
  },
  {
   "cell_type": "code",
   "execution_count": 17,
   "metadata": {},
   "outputs": [],
   "source": [
    "parties = []\n",
    "\n",
    "with open(\"./data/parties.csv\", newline=\"\") as infile:\n",
    "    reader = csv.reader(infile)\n",
    "    Party = namedtuple(\"Party\", next(reader))  # get names from column headers\n",
    "    for data in map(Party._make, reader):\n",
    "        parties.append(data)\n",
    "    "
   ]
  },
  {
   "cell_type": "code",
   "execution_count": 18,
   "metadata": {},
   "outputs": [],
   "source": [
    "nlp = spacy.load('en_core_web_sm')\n",
    "doc = nlp(o)"
   ]
  },
  {
   "cell_type": "code",
   "execution_count": 19,
   "metadata": {},
   "outputs": [],
   "source": [
    "# This is probably overkill. I should just use string methods to highlight/tag the names.\n",
    "\n",
    "party_matches = []\n",
    "\n",
    "def on_match(matcher, doc, uid, matches):\n",
    "    print(f'{uid} matched!')\n",
    "    # party_matches.append((uid, matches, \"Party\"))\n",
    "\n",
    "matcher = PhraseMatcher(nlp.vocab)\n",
    "for p in parties:\n",
    "    if len(p.name) < 10:\n",
    "        matcher.add(p.short_name, on_match, nlp(p.short_name), nlp(p.name))\n",
    "    else: matcher.add(p.short_name, on_match, nlp(p.short_name))\n",
    "    \n",
    "# matches = matcher(doc)"
   ]
  },
  {
   "cell_type": "code",
   "execution_count": 20,
   "metadata": {},
   "outputs": [],
   "source": [
    "Entity = namedtuple(\"Entity\", \"text start_char end_char label_\")"
   ]
  },
  {
   "cell_type": "code",
   "execution_count": 21,
   "metadata": {},
   "outputs": [],
   "source": [
    "entities = [Entity(e.text, e.start_char, e.end_char, e.label_) for e in doc.ents\n",
    "            if e.label_ not in (\"CARDINAL\", \"ORDINAL\", \"DATE\", \"MONEY\", \"TIME\", \"LAW\", \"FAC\")]"
   ]
  },
  {
   "cell_type": "code",
   "execution_count": 22,
   "metadata": {},
   "outputs": [
    {
     "name": "stdout",
     "output_type": "stream",
     "text": [
      "84.\n",
      "CrowdStrike performed forensic analysis on the DNC's computer network and servers.\n",
      "CrowdStrike also set up a system for monitoring the ongoing attack on Plaintiffs computer system and to alert the DNC to future attacks.\n",
      "85.\n",
      "As a result of the persistence of the Russian state-sponsored infiltration, in order to remove the unauthorized users from its network, the DNC was required to decommission more than 140 servers, remove and reinstall all software, including the operating systems, for more than 180 computers, and rebuild at least 11 servers.  \n",
      "*\n",
      "*27\n",
      "*\n",
      "* G. Forensic Evidence Confirms Russia's Attack on the DNC's Network 86.\n",
      "Both CrowdStrike's forensic analysis and the U.S. Government concluded that the DNC's computer systems had been hacked by two independent, sophisticated Russian state sponsored adversaries, both with a nexus to Russia's intelligence services.5\n"
     ]
    }
   ],
   "source": [
    "for sent in list(doc.sents)[460:470]:\n",
    "    print(sent.text)"
   ]
  }
 ],
 "metadata": {
  "kernelspec": {
   "display_name": "Python 3",
   "language": "python",
   "name": "python3"
  },
  "language_info": {
   "codemirror_mode": {
    "name": "ipython",
    "version": 3
   },
   "file_extension": ".py",
   "mimetype": "text/x-python",
   "name": "python",
   "nbconvert_exporter": "python",
   "pygments_lexer": "ipython3",
   "version": "3.6.5"
  }
 },
 "nbformat": 4,
 "nbformat_minor": 2
}
